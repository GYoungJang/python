{
  "nbformat": 4,
  "nbformat_minor": 0,
  "metadata": {
    "colab": {
      "name": "u13_if.ipynb",
      "provenance": [],
      "collapsed_sections": []
    },
    "kernelspec": {
      "name": "python3",
      "display_name": "Python 3"
    },
    "language_info": {
      "name": "python"
    }
  },
  "cells": [
    {
      "cell_type": "markdown",
      "metadata": {
        "id": "Ina2YGVGgnXC"
      },
      "source": [
        "# Unit 13. if 조건문"
      ]
    },
    {
      "cell_type": "markdown",
      "metadata": {
        "id": "Amu4zx1bhedv"
      },
      "source": [
        "## 13.1 if 조건문"
      ]
    },
    {
      "cell_type": "code",
      "metadata": {
        "colab": {
          "base_uri": "https://localhost:8080/"
        },
        "id": "wvpiV13KgEvf",
        "outputId": "9abc5481-fffc-4a61-997b-01c1a8cc07a3"
      },
      "source": [
        "x = 10\n",
        "if x == 10:\n",
        "  print('It is 10.')"
      ],
      "execution_count": 3,
      "outputs": [
        {
          "output_type": "stream",
          "text": [
            "It is 10.\n"
          ],
          "name": "stdout"
        }
      ]
    },
    {
      "cell_type": "code",
      "metadata": {
        "colab": {
          "base_uri": "https://localhost:8080/"
        },
        "id": "B26ASNHdhwLx",
        "outputId": "84584067-a700-4e2f-ef13-1b27470f968d"
      },
      "source": [
        "x = 9\n",
        "if x:            # x가 0이 아니면 참\n",
        "  print('It is 10')"
      ],
      "execution_count": 8,
      "outputs": [
        {
          "output_type": "stream",
          "text": [
            "It is 10\n"
          ],
          "name": "stdout"
        }
      ]
    },
    {
      "cell_type": "code",
      "metadata": {
        "id": "xX3S6xmqiQCf"
      },
      "source": [
        "# pass는 일단 생략을 뜻함"
      ],
      "execution_count": 9,
      "outputs": []
    },
    {
      "cell_type": "markdown",
      "metadata": {
        "id": "BOeanXI7i1OL"
      },
      "source": [
        "## 13.2 들여쓰기"
      ]
    },
    {
      "cell_type": "code",
      "metadata": {
        "colab": {
          "base_uri": "https://localhost:8080/"
        },
        "id": "b__gc9Aji0pM",
        "outputId": "d0762834-1207-46f7-b6b0-fcb10b605b4c"
      },
      "source": [
        "x = 9\n",
        "\n",
        "if x == 10:\n",
        "  print('x값은')\n",
        "  print('10입니다.')\n",
        "print('언제나 출력됩니다.')"
      ],
      "execution_count": 13,
      "outputs": [
        {
          "output_type": "stream",
          "text": [
            "언제나 출력됩니다.\n"
          ],
          "name": "stdout"
        }
      ]
    },
    {
      "cell_type": "markdown",
      "metadata": {
        "id": "oER8V5u4j8iN"
      },
      "source": [
        "## 13.3 중첩 if 조건문"
      ]
    },
    {
      "cell_type": "code",
      "metadata": {
        "colab": {
          "base_uri": "https://localhost:8080/"
        },
        "id": "Kd4ZmR4WizHu",
        "outputId": "bb7699d0-e06a-4f13-dfc3-39cb718d4130"
      },
      "source": [
        "x=15\n",
        "if x > 10:\n",
        "  print('10보다 큰 숫자입니다')\n",
        "  if x == 15:\n",
        "    print('15입니다.')\n",
        "  if x ==20:\n",
        "    print('20입니다')\n",
        "    "
      ],
      "execution_count": 14,
      "outputs": [
        {
          "output_type": "stream",
          "text": [
            "10보다 큰 숫자입니다\n",
            "15입니다.\n"
          ],
          "name": "stdout"
        }
      ]
    },
    {
      "cell_type": "code",
      "metadata": {
        "colab": {
          "base_uri": "https://localhost:8080/"
        },
        "id": "iAoR70x_khSp",
        "outputId": "989bb34c-960f-4fe3-d236-ec1219c702e9"
      },
      "source": [
        "x= int(input('정수를 입력하세요>'))\n",
        "if x > 10:\n",
        "  print('10보다 큰 숫자입니다')\n",
        "  if x == 15:\n",
        "    print('15입니다.')\n",
        "  if x ==20:\n",
        "    print('20입니다')"
      ],
      "execution_count": 16,
      "outputs": [
        {
          "output_type": "stream",
          "text": [
            "정수를 입력하세요>16\n",
            "10보다 큰 숫자입니다\n"
          ],
          "name": "stdout"
        }
      ]
    },
    {
      "cell_type": "code",
      "metadata": {
        "id": "NIAgMyg5k9-4"
      },
      "source": [
        ""
      ],
      "execution_count": null,
      "outputs": []
    }
  ]
}
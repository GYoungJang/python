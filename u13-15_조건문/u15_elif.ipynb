{
  "nbformat": 4,
  "nbformat_minor": 0,
  "metadata": {
    "colab": {
      "name": "u15_elif.ipynb",
      "provenance": [],
      "collapsed_sections": []
    },
    "kernelspec": {
      "name": "python3",
      "display_name": "Python 3"
    },
    "language_info": {
      "name": "python"
    }
  },
  "cells": [
    {
      "cell_type": "code",
      "metadata": {
        "colab": {
          "base_uri": "https://localhost:8080/"
        },
        "id": "TagCCTG0n2U_",
        "outputId": "ce043b43-b52e-4b42-a9a3-597cd232e045"
      },
      "source": [
        "x = 15\n",
        "if x  == 10:\n",
        "  print('IT is 10.')\n",
        "elif x  == 20:\n",
        "  print('IT is 20.')\n",
        "else:\n",
        "  print('10, 20이 아닙니다')"
      ],
      "execution_count": null,
      "outputs": [
        {
          "output_type": "stream",
          "text": [
            "10, 20이 아닙니다\n"
          ],
          "name": "stdout"
        }
      ]
    },
    {
      "cell_type": "code",
      "metadata": {
        "id": "XVLAoMvooq83"
      },
      "source": [
        "# 숫자 - 입력, 3의 배수면 fizz, 5의 배수면 buzz, 15의 배수면 fizzbuzz\n",
        "\n",
        "x = int(input())\n",
        "if x = 3의 배수:\n",
        "  print('fizz')\n",
        "elif x = 5의 배수:\n",
        "  print('buzz')\n",
        "elif x = 15의 배수:\n",
        "  print('fizzbuzz')"
      ],
      "execution_count": null,
      "outputs": []
    },
    {
      "cell_type": "code",
      "metadata": {
        "colab": {
          "base_uri": "https://localhost:8080/"
        },
        "id": "3PH9bl1OqKBZ",
        "outputId": "c04e3e07-8d4e-40fb-94e9-4903d3ef7969"
      },
      "source": [
        "# 숫자 - 입력, 3의 배수면 fizz, 5의 배수면 buzz, 15의 배수면 fizzbuzz\n",
        "number = int(input())\n",
        "\n",
        "if number % 15 ==0:\n",
        "  print('fizzbuzz')\n",
        "elif number % 5 ==0:\n",
        "  print('buzz')\n",
        "elif number % 3 ==0:\n",
        "  print('fizz')\n",
        "else:\n",
        "  print(number)"
      ],
      "execution_count": null,
      "outputs": [
        {
          "output_type": "stream",
          "text": [
            "30\n",
            "fizzbuzz\n"
          ],
          "name": "stdout"
        }
      ]
    },
    {
      "cell_type": "code",
      "metadata": {
        "colab": {
          "base_uri": "https://localhost:8080/"
        },
        "id": "Tbyt7vJfqq8S",
        "outputId": "85cb55b6-4134-46f2-b76d-c90739cf08b4"
      },
      "source": [
        "print('fizz'*(number%3==0) +'buzz'*(number%5==0) or number )"
      ],
      "execution_count": null,
      "outputs": [
        {
          "output_type": "stream",
          "text": [
            "fizzbuzz\n"
          ],
          "name": "stdout"
        }
      ]
    },
    {
      "cell_type": "code",
      "metadata": {
        "id": "WkLEstNDrvqM"
      },
      "source": [
        ""
      ],
      "execution_count": null,
      "outputs": []
    }
  ]
}
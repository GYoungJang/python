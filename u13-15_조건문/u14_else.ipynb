{
  "nbformat": 4,
  "nbformat_minor": 0,
  "metadata": {
    "colab": {
      "name": "u14_else.ipynb",
      "provenance": [],
      "collapsed_sections": []
    },
    "kernelspec": {
      "name": "python3",
      "display_name": "Python 3"
    },
    "language_info": {
      "name": "python"
    }
  },
  "cells": [
    {
      "cell_type": "markdown",
      "metadata": {
        "id": "5n1UkHevl7Eo"
      },
      "source": [
        "#Unit 14. else"
      ]
    },
    {
      "cell_type": "code",
      "metadata": {
        "colab": {
          "base_uri": "https://localhost:8080/"
        },
        "id": "SLDCmmfjl9ZH",
        "outputId": "86108955-448e-44df-81b5-72525024b28a"
      },
      "source": [
        "x = 1\n",
        "if x == 10:\n",
        "  print('It is 10.')\n",
        "else:\n",
        "  print('It is not 10.')"
      ],
      "execution_count": null,
      "outputs": [
        {
          "output_type": "stream",
          "text": [
            "It is not 10.\n"
          ],
          "name": "stdout"
        }
      ]
    },
    {
      "cell_type": "markdown",
      "metadata": {
        "id": "FzBFBYOEmu8u"
      },
      "source": [
        "## 3항 연산자\n",
        "\n",
        "- Java, Js: a\n",
        " = (조건)? 참일때의 값 : 거짓일때의 값\n",
        "\n",
        " -파이썬: a= 참일 때의 값 if 조건 else 거짓일 때의 값"
      ]
    },
    {
      "cell_type": "code",
      "metadata": {
        "colab": {
          "base_uri": "https://localhost:8080/",
          "height": 35
        },
        "id": "u56p4AqNmdL9",
        "outputId": "83a8714f-75e0-4769-aa29-b020d06d601f"
      },
      "source": [
        "x = 1\n",
        "if x % 2 == 0:\n",
        "  y = 'even'\n",
        "else:\n",
        "  y = 'odd'\n",
        "y"
      ],
      "execution_count": null,
      "outputs": [
        {
          "output_type": "execute_result",
          "data": {
            "application/vnd.google.colaboratory.intrinsic+json": {
              "type": "string"
            },
            "text/plain": [
              "'odd'"
            ]
          },
          "metadata": {
            "tags": []
          },
          "execution_count": 6
        }
      ]
    },
    {
      "cell_type": "code",
      "metadata": {
        "colab": {
          "base_uri": "https://localhost:8080/",
          "height": 35
        },
        "id": "C1Qn7ODunGQf",
        "outputId": "a348e82b-4a9d-41fa-877a-efd3fbc9c96b"
      },
      "source": [
        "y = 'even' if x%2 == 0 else 'odd'\n",
        "y"
      ],
      "execution_count": null,
      "outputs": [
        {
          "output_type": "execute_result",
          "data": {
            "application/vnd.google.colaboratory.intrinsic+json": {
              "type": "string"
            },
            "text/plain": [
              "'odd'"
            ]
          },
          "metadata": {
            "tags": []
          },
          "execution_count": 8
        }
      ]
    },
    {
      "cell_type": "markdown",
      "metadata": {
        "id": "7D3jKtnBthCO"
      },
      "source": [
        "### 중첩 if문"
      ]
    },
    {
      "cell_type": "code",
      "metadata": {
        "colab": {
          "base_uri": "https://localhost:8080/"
        },
        "id": "kQPS_7mWnPJV",
        "outputId": "340eeb8f-245b-4fc3-b14f-cb04b5b97e71"
      },
      "source": [
        "# 90점 이상이면 'A', 80~89:B, 70~79:C, 60~69: D, ~59:F\n",
        "score = int(input('점수입력'))"
      ],
      "execution_count": null,
      "outputs": [
        {
          "output_type": "stream",
          "text": [
            "점수입력82\n"
          ],
          "name": "stdout"
        }
      ]
    },
    {
      "cell_type": "code",
      "metadata": {
        "colab": {
          "base_uri": "https://localhost:8080/"
        },
        "id": "MY9dG5QdosjT",
        "outputId": "ba176338-63a3-47f6-db0c-8927422f3c3d"
      },
      "source": [
        "if score >= 90:\n",
        "    grade = 'A'\n",
        "else:\n",
        "  if score >= 80:\n",
        "     grade = 'B'\n",
        "  else:\n",
        "      if score >=70:\n",
        "         grade = 'C'\n",
        "      else:\n",
        "        if score >= 60:\n",
        "            grade = 'D'\n",
        "        else:\n",
        "            grade = 'F'\n",
        "print(grade)\n",
        "          \n",
        "        "
      ],
      "execution_count": null,
      "outputs": [
        {
          "output_type": "stream",
          "text": [
            "B\n"
          ],
          "name": "stdout"
        }
      ]
    },
    {
      "cell_type": "code",
      "metadata": {
        "colab": {
          "base_uri": "https://localhost:8080/",
          "height": 35
        },
        "id": "hHgYIgQktajg",
        "outputId": "4f4be331-f969-4ff3-dfad-c38c4615588f"
      },
      "source": [
        "grade = 'A' if score >= 90 else \\\n",
        "            'B' if score >= 80 else \\\n",
        "                'C' if score >= 70 else \\\n",
        "                    'D' if score >= 60 else 'F'\n",
        "grade"
      ],
      "execution_count": null,
      "outputs": [
        {
          "output_type": "execute_result",
          "data": {
            "application/vnd.google.colaboratory.intrinsic+json": {
              "type": "string"
            },
            "text/plain": [
              "'B'"
            ]
          },
          "metadata": {
            "tags": []
          },
          "execution_count": 11
        }
      ]
    },
    {
      "cell_type": "markdown",
      "metadata": {
        "id": "UmJ0kU0fufxc"
      },
      "source": [
        "### 조건식에서의 논리연산자"
      ]
    },
    {
      "cell_type": "code",
      "metadata": {
        "colab": {
          "base_uri": "https://localhost:8080/"
        },
        "id": "rrOL_mazuDz-",
        "outputId": "52c721ce-cdfb-4de0-d522-aebbc52ad447"
      },
      "source": [
        "x = 5\n",
        "if x > 0 and x <10:\n",
        "  print('10보다 작은 양의 정수입니다.')"
      ],
      "execution_count": null,
      "outputs": [
        {
          "output_type": "stream",
          "text": [
            "10보다 작은 양의 정수입니다.\n"
          ],
          "name": "stdout"
        }
      ]
    },
    {
      "cell_type": "code",
      "metadata": {
        "colab": {
          "base_uri": "https://localhost:8080/"
        },
        "id": "A3JzWZi6usGF",
        "outputId": "1e1185f9-f990-4f41-b87a-b785b7f295dd"
      },
      "source": [
        "if 0 < x <10 :\n",
        "  print('10보다 작은 양의 정수입니다.')"
      ],
      "execution_count": null,
      "outputs": [
        {
          "output_type": "stream",
          "text": [
            "10보다 작은 양의 정수입니다.\n"
          ],
          "name": "stdout"
        }
      ]
    },
    {
      "cell_type": "code",
      "metadata": {
        "id": "UQWv-dTEu0zM"
      },
      "source": [
        ""
      ],
      "execution_count": null,
      "outputs": []
    }
  ]
}
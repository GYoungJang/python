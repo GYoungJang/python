{
  "nbformat": 4,
  "nbformat_minor": 0,
  "metadata": {
    "colab": {
      "name": "심사문제06.ipynb",
      "provenance": [],
      "collapsed_sections": []
    },
    "kernelspec": {
      "name": "python3",
      "display_name": "Python 3"
    },
    "language_info": {
      "name": "python"
    }
  },
  "cells": [
    {
      "cell_type": "markdown",
      "metadata": {
        "id": "wTIwyETAKrFC"
      },
      "source": [
        "#Unit 6 심사문제\n",
        "표준 입력으로 국어, 영어, 수학, 과학 점수가 입력됩니다.<br> 평균 점수를 출력하는 프로그램을 만드세요(input에서 안내 문자열은 출력하지 않아야 합니다).<br> 단, 평균 점수를 출력할 때는 소수점 이하 자리는 버립니다(정수로 출력)."
      ]
    },
    {
      "cell_type": "markdown",
      "metadata": {
        "id": "eBb_eTynK6ua"
      },
      "source": [
        "## 1) 교과서 방법"
      ]
    },
    {
      "cell_type": "code",
      "metadata": {
        "colab": {
          "base_uri": "https://localhost:8080/"
        },
        "id": "miqPY2rCKeNO",
        "outputId": "f7a9feef-bcfa-434f-aa3f-6bf9c2bf2665"
      },
      "source": [
        "kor, eng, mat, sci = map(int, input('국어, 영어, 수학, 과학 점수> ').split())"
      ],
      "execution_count": 2,
      "outputs": [
        {
          "output_type": "stream",
          "text": [
            "국어, 영어, 수학, 과학 점수> 80 90 70 75\n"
          ],
          "name": "stdout"
        }
      ]
    },
    {
      "cell_type": "code",
      "metadata": {
        "colab": {
          "base_uri": "https://localhost:8080/"
        },
        "id": "ZoAeUhLpLYhc",
        "outputId": "d4a9c65d-3028-43a7-d175-a072f9f49b2f"
      },
      "source": [
        "(kor + eng + mat + sci) // 4, (kor + eng + mat + sci) / 4"
      ],
      "execution_count": 3,
      "outputs": [
        {
          "output_type": "execute_result",
          "data": {
            "text/plain": [
              "(78, 78.75)"
            ]
          },
          "metadata": {
            "tags": []
          },
          "execution_count": 3
        }
      ]
    },
    {
      "cell_type": "markdown",
      "metadata": {
        "id": "CkwNwL6IL9Yu"
      },
      "source": [
        "## 2) 리스트 이용"
      ]
    },
    {
      "cell_type": "code",
      "metadata": {
        "colab": {
          "base_uri": "https://localhost:8080/"
        },
        "id": "pOQZgvQCL0qE",
        "outputId": "0b077061-d2bd-4e7f-ea4f-ff9ce3493de1"
      },
      "source": [
        "score = list(map(int, input('국어, 영어, 수학, 과학 점수> ').split()))\n",
        "score"
      ],
      "execution_count": 4,
      "outputs": [
        {
          "output_type": "stream",
          "text": [
            "국어, 영어, 수학, 과학 점수> 80 90 70 75\n"
          ],
          "name": "stdout"
        },
        {
          "output_type": "execute_result",
          "data": {
            "text/plain": [
              "[80, 90, 70, 75]"
            ]
          },
          "metadata": {
            "tags": []
          },
          "execution_count": 4
        }
      ]
    },
    {
      "cell_type": "code",
      "metadata": {
        "colab": {
          "base_uri": "https://localhost:8080/"
        },
        "id": "rS9tmpZFMNt4",
        "outputId": "deb2ffab-c92b-4170-9f1c-4f101d86a693"
      },
      "source": [
        "sum(score)"
      ],
      "execution_count": 5,
      "outputs": [
        {
          "output_type": "execute_result",
          "data": {
            "text/plain": [
              "315"
            ]
          },
          "metadata": {
            "tags": []
          },
          "execution_count": 5
        }
      ]
    },
    {
      "cell_type": "code",
      "metadata": {
        "colab": {
          "base_uri": "https://localhost:8080/"
        },
        "id": "AclXOPXRMQiJ",
        "outputId": "a579f2d9-f889-4c3d-e48a-c414e3b75bf6"
      },
      "source": [
        "len(score)"
      ],
      "execution_count": 6,
      "outputs": [
        {
          "output_type": "execute_result",
          "data": {
            "text/plain": [
              "4"
            ]
          },
          "metadata": {
            "tags": []
          },
          "execution_count": 6
        }
      ]
    },
    {
      "cell_type": "code",
      "metadata": {
        "colab": {
          "base_uri": "https://localhost:8080/"
        },
        "id": "a78TDtiEMRnP",
        "outputId": "751adf55-0198-4228-ba26-9d64444b36da"
      },
      "source": [
        "sum(score) // len(score), sum(score) / len(score)"
      ],
      "execution_count": 7,
      "outputs": [
        {
          "output_type": "execute_result",
          "data": {
            "text/plain": [
              "(78, 78.75)"
            ]
          },
          "metadata": {
            "tags": []
          },
          "execution_count": 7
        }
      ]
    },
    {
      "cell_type": "markdown",
      "metadata": {
        "id": "bhG-DCqDMYGX"
      },
      "source": [
        "## 3) Numpy 이용"
      ]
    },
    {
      "cell_type": "code",
      "metadata": {
        "colab": {
          "base_uri": "https://localhost:8080/"
        },
        "id": "V0dIojFtMXKf",
        "outputId": "cf6ab947-f789-4744-b037-d8c881a8371f"
      },
      "source": [
        "import numpy as np\n",
        "score = np.array(list(map(int, input('국어, 영어, 수학, 과학 점수> ').split())))\n",
        "score"
      ],
      "execution_count": 8,
      "outputs": [
        {
          "output_type": "stream",
          "text": [
            "국어, 영어, 수학, 과학 점수> 80 90 70 75\n"
          ],
          "name": "stdout"
        },
        {
          "output_type": "execute_result",
          "data": {
            "text/plain": [
              "array([80, 90, 70, 75])"
            ]
          },
          "metadata": {
            "tags": []
          },
          "execution_count": 8
        }
      ]
    },
    {
      "cell_type": "code",
      "metadata": {
        "colab": {
          "base_uri": "https://localhost:8080/"
        },
        "id": "VY_OhrRcMqOd",
        "outputId": "c3363916-f9e4-4c06-b60f-2c743cd38a70"
      },
      "source": [
        "int(np.mean(score)), np.mean(score)"
      ],
      "execution_count": 9,
      "outputs": [
        {
          "output_type": "execute_result",
          "data": {
            "text/plain": [
              "(78, 78.75)"
            ]
          },
          "metadata": {
            "tags": []
          },
          "execution_count": 9
        }
      ]
    },
    {
      "cell_type": "code",
      "metadata": {
        "id": "5nlAwgZeMzqM"
      },
      "source": [
        "''' 표준 입력으로 국어, 영어, 수학, 과학 점수가 입력됩니다.<br> 평균 점수를 출력하는 프로그램을 만드세요(input에서 안내 문자열은 출력하지 않아야 합니다).<br> 단, 평균 점수를 출력할 때는 소수점 이하 자리는 버립니다(정수로 출력). '''"
      ],
      "execution_count": null,
      "outputs": []
    }
  ]
}
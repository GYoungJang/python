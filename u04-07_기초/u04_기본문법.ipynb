{
  "nbformat": 4,
  "nbformat_minor": 0,
  "metadata": {
    "colab": {
      "name": "u04_기본문법.ipynb",
      "provenance": []
    },
    "kernelspec": {
      "name": "python3",
      "display_name": "Python 3"
    },
    "language_info": {
      "name": "python"
    }
  },
  "cells": [
    {
      "cell_type": "markdown",
      "metadata": {
        "id": "Qb3pxalIdFVF"
      },
      "source": [
        "#UNIT 4. 기본 문법 알아보기"
      ]
    },
    {
      "cell_type": "markdown",
      "metadata": {
        "id": "SkwQCt1ta6nW"
      },
      "source": [
        "\n",
        "\n",
        "##4.1 세미콜론"
      ]
    },
    {
      "cell_type": "code",
      "metadata": {
        "colab": {
          "base_uri": "https://localhost:8080/"
        },
        "id": "y-2Thedxa4ga",
        "outputId": "fe172dc1-09b9-48d9-d740-ca983a4624bd"
      },
      "source": [
        "print('hello, world')"
      ],
      "execution_count": 1,
      "outputs": [
        {
          "output_type": "stream",
          "text": [
            "hello, world\n"
          ],
          "name": "stdout"
        }
      ]
    },
    {
      "cell_type": "code",
      "metadata": {
        "colab": {
          "base_uri": "https://localhost:8080/"
        },
        "id": "Hga_pRQbbTMS",
        "outputId": "a439a0dc-531d-4b0a-af7b-795f7dc8f8c3"
      },
      "source": [
        "print('hello'); print('1234')"
      ],
      "execution_count": 2,
      "outputs": [
        {
          "output_type": "stream",
          "text": [
            "hello\n",
            "1234\n"
          ],
          "name": "stdout"
        }
      ]
    },
    {
      "cell_type": "markdown",
      "metadata": {
        "id": "0hyy8V8Nbvdk"
      },
      "source": [
        "##4.2 주석\n",
        "\n"
      ]
    },
    {
      "cell_type": "markdown",
      "metadata": {
        "id": "Ec3zMywab6Rh"
      },
      "source": [
        "### 4.2.1 한 줄 주석"
      ]
    },
    {
      "cell_type": "code",
      "metadata": {
        "colab": {
          "base_uri": "https://localhost:8080/"
        },
        "id": "1kNkkGf8bh_g",
        "outputId": "d6a51904-0063-4579-fd72-174f6f52f24a"
      },
      "source": [
        "#hello, world! 출력\n",
        "print('hello, world!')"
      ],
      "execution_count": 3,
      "outputs": [
        {
          "output_type": "stream",
          "text": [
            "hello, world!\n"
          ],
          "name": "stdout"
        }
      ]
    },
    {
      "cell_type": "code",
      "metadata": {
        "colab": {
          "base_uri": "https://localhost:8080/"
        },
        "id": "W-EjQrK5cMzD",
        "outputId": "f11cf5f2-df00-485c-8e09-853688b82d80"
      },
      "source": [
        "print('hello, world!')  #comment"
      ],
      "execution_count": 4,
      "outputs": [
        {
          "output_type": "stream",
          "text": [
            "hello, world!\n"
          ],
          "name": "stdout"
        }
      ]
    },
    {
      "cell_type": "markdown",
      "metadata": {
        "id": "wvr2Jdt6epPJ"
      },
      "source": [
        "### 4.2.2 블록 주석"
      ]
    },
    {
      "cell_type": "code",
      "metadata": {
        "id": "6BPDw1tjcT_8"
      },
      "source": [
        "# 더하기\n",
        "# a = 1 + 2\n",
        "# print('hello, world!')"
      ],
      "execution_count": 5,
      "outputs": []
    },
    {
      "cell_type": "code",
      "metadata": {
        "colab": {
          "base_uri": "https://localhost:8080/",
          "height": 35
        },
        "id": "ybYWRvRle5rY",
        "outputId": "aeb8ec8a-b2a4-4526-b65d-559bc1b13e41"
      },
      "source": [
        "# 더하기\n",
        "'''a = 1 + 2\n",
        "print('hello, world!')'''"
      ],
      "execution_count": 6,
      "outputs": [
        {
          "output_type": "execute_result",
          "data": {
            "application/vnd.google.colaboratory.intrinsic+json": {
              "type": "string"
            },
            "text/plain": [
              "\"a = 1 + 2\\nprint('hello, world!')\""
            ]
          },
          "metadata": {
            "tags": []
          },
          "execution_count": 6
        }
      ]
    },
    {
      "cell_type": "code",
      "metadata": {
        "colab": {
          "base_uri": "https://localhost:8080/",
          "height": 35
        },
        "id": "XN76OrTwfIdB",
        "outputId": "c2d337c3-7f95-415b-9c92-9a437c4dbbfd"
      },
      "source": [
        "\"\"\"\n",
        "이 안에 포함된 내용이 블록 주석\n",
        "\"\"\""
      ],
      "execution_count": 7,
      "outputs": [
        {
          "output_type": "execute_result",
          "data": {
            "application/vnd.google.colaboratory.intrinsic+json": {
              "type": "string"
            },
            "text/plain": [
              "'\\n이 안에 포함된 내용이 블록 주석\\n'"
            ]
          },
          "metadata": {
            "tags": []
          },
          "execution_count": 7
        }
      ]
    },
    {
      "cell_type": "markdown",
      "metadata": {
        "id": "IZDumxHMiTIg"
      },
      "source": [
        "## 4.3 들여쓰기 (Indentation)"
      ]
    },
    {
      "cell_type": "code",
      "metadata": {
        "id": "BzdSiJ7KfUjY"
      },
      "source": [
        "\"\"\" C 프로그래밍 예\n",
        "SUM = 0;\n",
        "FOR (i=1; i<=10; i++) {\n",
        "  SUM += i;\n",
        "}\n",
        "printf(sum);\n",
        "\"\"\""
      ],
      "execution_count": null,
      "outputs": []
    },
    {
      "cell_type": "code",
      "metadata": {
        "colab": {
          "base_uri": "https://localhost:8080/"
        },
        "id": "qy8joEVJjG4z",
        "outputId": "d6c2621b-6ce6-4af6-e916-fd63bf52c61d"
      },
      "source": [
        "# 파이썬 예\n",
        "sum =0\n",
        "for i in range(1, 11):\n",
        "  sum += i\n",
        "print(sum)"
      ],
      "execution_count": 8,
      "outputs": [
        {
          "output_type": "stream",
          "text": [
            "55\n"
          ],
          "name": "stdout"
        }
      ]
    },
    {
      "cell_type": "code",
      "metadata": {
        "colab": {
          "base_uri": "https://localhost:8080/"
        },
        "id": "qvIa3yLDjpkC",
        "outputId": "8231cd10-5137-48ee-c8c9-1ebd45a895c9"
      },
      "source": [
        "# 기본 공백: 공백 4개, 탭/백탭(shift+tab)\n",
        "sum =0\n",
        "for i in range(1, 11):\n",
        "    sum += i\n",
        "    if (i >9):\n",
        "      print(i)\n",
        "\n",
        "print(sum)            \n"
      ],
      "execution_count": 11,
      "outputs": [
        {
          "output_type": "stream",
          "text": [
            "10\n",
            "55\n"
          ],
          "name": "stdout"
        }
      ]
    },
    {
      "cell_type": "code",
      "metadata": {
        "id": "lZFD9iwPkC2P"
      },
      "source": [
        ""
      ],
      "execution_count": null,
      "outputs": []
    }
  ]
}
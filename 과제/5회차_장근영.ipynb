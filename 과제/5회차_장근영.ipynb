{
  "nbformat": 4,
  "nbformat_minor": 0,
  "metadata": {
    "colab": {
      "name": "u08-14 심사문제.ipynb",
      "provenance": [],
      "collapsed_sections": []
    },
    "kernelspec": {
      "name": "python3",
      "display_name": "Python 3"
    },
    "language_info": {
      "name": "python"
    }
  },
  "cells": [
    {
      "cell_type": "markdown",
      "metadata": {
        "id": "BCFFiSFkLxme"
      },
      "source": [
        "#Unit 8 심사문제\n",
        "\n",
        "표준 입력으로 국어, 영어, 수학, 과학 점수가 입력됩니다.<br> 국어는 90점 이상, 영어는 80점 초과, 수학은 85점 초과, 과학은 80점 이상일 때 합격이라고 정했습니다(한 과목이라도 조건에 만족하지 않으면 불합격).<br> 다음 소스 코드를 완성하여 합격이면 True, 불합격이면 False가 출력되게 만드세요(input에서 안내 문자열은 출력하지 않아야 합니다).<br>"
      ]
    },
    {
      "cell_type": "code",
      "metadata": {
        "colab": {
          "base_uri": "https://localhost:8080/"
        },
        "id": "6_zdSfWKMA7J",
        "outputId": "a20fde06-fd05-4e56-f93a-2f980814407f"
      },
      "source": [
        "국어, 영어, 수학, 과학 = map(int, input().split())\n",
        "print(국어>=90 and 영어>80 and 수학>85 and 과학>=80)"
      ],
      "execution_count": 1,
      "outputs": [
        {
          "output_type": "stream",
          "text": [
            "90 81 86 80\n",
            "True\n"
          ],
          "name": "stdout"
        }
      ]
    },
    {
      "cell_type": "code",
      "metadata": {
        "colab": {
          "base_uri": "https://localhost:8080/"
        },
        "id": "ElfPcJ7tLpfJ",
        "outputId": "29d7f3a0-2ab0-4b2f-c286-5ab57a28db6e"
      },
      "source": [
        "국어, 영어, 수학, 과학 = map(int, input().split())\n",
        "print(국어>=90 and 영어>80 and 수학>85 and 과학>=80)"
      ],
      "execution_count": 2,
      "outputs": [
        {
          "output_type": "stream",
          "text": [
            "90 80 85 80\n",
            "False\n"
          ],
          "name": "stdout"
        }
      ]
    },
    {
      "cell_type": "markdown",
      "metadata": {
        "id": "NdU3Z6mDQ60T"
      },
      "source": [
        "# Unit 9 심사문제\n",
        "\n",
        "다음 소스 코드를 완성하여 실행 결과대로 문자열이 출력되게 만드세요."
      ]
    },
    {
      "cell_type": "code",
      "metadata": {
        "colab": {
          "base_uri": "https://localhost:8080/"
        },
        "id": "PnQyTvOoMQtH",
        "outputId": "42e13bc0-ee03-4be8-a58c-6d3fa811378f"
      },
      "source": [
        "s = ''''Python' is a \"programming language\"\n",
        "that lets you work quickly\n",
        "and\n",
        "integrate systems more effectively.'''\n",
        "\n",
        "print(s)"
      ],
      "execution_count": 3,
      "outputs": [
        {
          "output_type": "stream",
          "text": [
            "'Python' is a \"programming language\"\n",
            "that lets you work quickly\n",
            "and\n",
            "integrate systems more effectively.\n"
          ],
          "name": "stdout"
        }
      ]
    },
    {
      "cell_type": "markdown",
      "metadata": {
        "id": "72SEJ9llRLSp"
      },
      "source": [
        "# Unit 10 심사문제\n",
        "\n",
        "표준 입력으로 정수가 입력됩니다.<br> range의 시작하는 숫자는 -10, 끝나는 숫자는 10이며 입력된 정수만큼 증가하는 숫자가 들어가도록 튜플을 만들고, 해당 튜플을 출력하는 프로그램을 만드세요(input에서 안내 문자열은 출력하지 않아야 합니다).<br>"
      ]
    },
    {
      "cell_type": "code",
      "metadata": {
        "colab": {
          "base_uri": "https://localhost:8080/"
        },
        "id": "9K-Lr-MDRJbw",
        "outputId": "f590aacd-b627-473a-db37-6b790febcd44"
      },
      "source": [
        "z = int(input())\n",
        "y = tuple(range(-10, 10, z))\n",
        "print(y)"
      ],
      "execution_count": 1,
      "outputs": [
        {
          "output_type": "stream",
          "text": [
            "2\n",
            "(-10, -8, -6, -4, -2, 0, 2, 4, 6, 8)\n"
          ],
          "name": "stdout"
        }
      ]
    },
    {
      "cell_type": "code",
      "metadata": {
        "colab": {
          "base_uri": "https://localhost:8080/"
        },
        "id": "bC2EZixn_S0L",
        "outputId": "66686e7c-cab3-4132-96ca-7f991bcf5827"
      },
      "source": [
        "z = int(input())\n",
        "y = tuple(range(-10, 10, z))\n",
        "print(y)"
      ],
      "execution_count": 2,
      "outputs": [
        {
          "output_type": "stream",
          "text": [
            "3\n",
            "(-10, -7, -4, -1, 2, 5, 8)\n"
          ],
          "name": "stdout"
        }
      ]
    },
    {
      "cell_type": "markdown",
      "metadata": {
        "id": "Nnqy-I4737yE"
      },
      "source": [
        "#Unit 11 심사문제"
      ]
    },
    {
      "cell_type": "markdown",
      "metadata": {
        "id": "9DUUXJZe-RKp"
      },
      "source": [
        "## 11-1\n",
        "표준 입력으로 숫자 또는 문자열 여러 개가 입력되어 리스트 x에 저장됩니다(입력되는 숫자 또는 문자열의 개수는 정해져 있지 않음).<br> 다음 소스 코드를 완성하여 리스트 x의 마지막 요소 5개를 삭제한 뒤 튜플로 출력되게 만드세요.<br>\n",
        "\n"
      ]
    },
    {
      "cell_type": "code",
      "metadata": {
        "colab": {
          "base_uri": "https://localhost:8080/"
        },
        "id": "WT4Ntkia8lMu",
        "outputId": "7d81e8c4-b710-47c2-dbe6-3b1983f650b6"
      },
      "source": [
        "x = input().split()\n",
        "del x[-5:]\n",
        "print(tuple(x))"
      ],
      "execution_count": 8,
      "outputs": [
        {
          "output_type": "stream",
          "text": [
            "1 2 3 4 5 6 7 8 9 10\n",
            "('1', '2', '3', '4', '5')\n"
          ],
          "name": "stdout"
        }
      ]
    },
    {
      "cell_type": "code",
      "metadata": {
        "colab": {
          "base_uri": "https://localhost:8080/"
        },
        "id": "kjJ4I0eM-DVz",
        "outputId": "e6d604e9-c369-4299-d7c5-2fc5cb45e978"
      },
      "source": [
        "x = input().split()\n",
        "del x[-5:]\n",
        "print(tuple(x))"
      ],
      "execution_count": 9,
      "outputs": [
        {
          "output_type": "stream",
          "text": [
            "oven bat pony total leak wreck curl crop space navy loss knee\n",
            "('oven', 'bat', 'pony', 'total', 'leak', 'wreck', 'curl')\n"
          ],
          "name": "stdout"
        }
      ]
    },
    {
      "cell_type": "markdown",
      "metadata": {
        "id": "OMc14jVU-HXK"
      },
      "source": [
        "## 11-2\n",
        "\n",
        "표준 입력으로 문자열 두 개가 각 줄에 입력됩니다(문자열의 길이는 정해져 있지 않음).<br> 첫 번째 문자열에서 인덱스가 홀수인 문자와 두 번째 문자열에서 인덱스가 짝수인 문자를 연결하여 출력하는 프로그램을 만드세요(input에서 안내 문자열은 출력하지 않아야 합니다).<br> 연결 순서는 첫 번째 문자열, 두 번째 문자열 순입니다.<br> 그리고 0은 짝수로 처리합니다.<br>"
      ]
    },
    {
      "cell_type": "code",
      "metadata": {
        "colab": {
          "base_uri": "https://localhost:8080/"
        },
        "id": "QehW8C7g-oXU",
        "outputId": "80be7d10-1852-4a58-ea68-b3a631682930"
      },
      "source": [
        "a = input()\n",
        "b = input()\n",
        "print(a[1::2]+b[::2])"
      ],
      "execution_count": 10,
      "outputs": [
        {
          "output_type": "stream",
          "text": [
            "python\n",
            "python\n",
            "yhnpto\n"
          ],
          "name": "stdout"
        }
      ]
    },
    {
      "cell_type": "code",
      "metadata": {
        "colab": {
          "base_uri": "https://localhost:8080/"
        },
        "id": "Lw5iBu8c-w_k",
        "outputId": "0acb43d1-7a6b-4619-a1ed-d5b0165879ec"
      },
      "source": [
        "a = input()\n",
        "b = input()\n",
        "print(a[1::2]+b[::2])"
      ],
      "execution_count": 11,
      "outputs": [
        {
          "output_type": "stream",
          "text": [
            "apple\n",
            "strawberry\n",
            "plsrwer\n"
          ],
          "name": "stdout"
        }
      ]
    },
    {
      "cell_type": "markdown",
      "metadata": {
        "id": "KOnxg-ND756D"
      },
      "source": [
        "# Unit 12 심사문제\n",
        "\n",
        "표준 입력으로 문자열 여러 개와 숫자(실수) 여러 개가 두 줄로 입력됩니다.<br>입력된 첫 번째 줄은 키, 두 번째 줄은 값으로 하여 딕셔너리를 생성한 뒤 딕셔너리를 출력하는 프로그램을 만드세요.<br> input().split()의 결과를 변수 한 개에 저장하면 리스트로 저장됩니다.<br>"
      ]
    },
    {
      "cell_type": "code",
      "metadata": {
        "colab": {
          "base_uri": "https://localhost:8080/"
        },
        "id": "l11pQqo98GVM",
        "outputId": "aeba3e53-5f96-4bd2-9adc-7f0d1686f0d9"
      },
      "source": [
        "a = input().split()\n",
        "b = map(float, input().split())\n",
        "c = dict(zip(list(a), list(b)))\n",
        "print(c)"
      ],
      "execution_count": 6,
      "outputs": [
        {
          "output_type": "stream",
          "text": [
            "health health_regen mana mana_regen\n",
            "575.6 1.7 338.8 1.63\n",
            "{'health': 575.6, 'health_regen': 1.7, 'mana': 338.8, 'mana_regen': 1.63}\n"
          ],
          "name": "stdout"
        }
      ]
    },
    {
      "cell_type": "code",
      "metadata": {
        "colab": {
          "base_uri": "https://localhost:8080/"
        },
        "id": "Pz-puTYG8VdM",
        "outputId": "2a567d2a-53a3-4c12-dfe2-8817aba66e5f"
      },
      "source": [
        "a = input().split()\n",
        "b = map(float, input().split())\n",
        "c = dict(zip(list(a), list(b)))\n",
        "print(c)"
      ],
      "execution_count": 7,
      "outputs": [
        {
          "output_type": "stream",
          "text": [
            "health mana melee attack_speed magic_resistance\n",
            "573.6 308.8 600 0.625 35.7\n",
            "{'health': 573.6, 'mana': 308.8, 'melee': 600.0, 'attack_speed': 0.625, 'magic_resistance': 35.7}\n"
          ],
          "name": "stdout"
        }
      ]
    },
    {
      "cell_type": "markdown",
      "metadata": {
        "id": "EW9UX4EM7eff"
      },
      "source": [
        "# Unit 13 심사문제\n",
        "\n",
        "표준 입력으로 가격(정수)과 쿠폰 이름이 각 줄에 입력됩니다.<br> Cash3000 쿠폰은 3,000원, Cash5000 쿠폰은 5,000원을 할인합니다.<br> 쿠폰에 따라 할인된 가격을 출력하는 프로그램을 만드세요(input에서 안내 문자열은 출력하지 않아야 합니다).<br>\n",
        "\n"
      ]
    },
    {
      "cell_type": "code",
      "metadata": {
        "colab": {
          "base_uri": "https://localhost:8080/"
        },
        "id": "JAEdhUcb7rhd",
        "outputId": "7c85498b-cc9c-4fe5-ea58-1a8cdb69bfea"
      },
      "source": [
        "a = int(input())\n",
        "b = input()\n",
        "if b == 'Cash3000' :\n",
        "  a -= 3000\n",
        "if b == 'Cash5000' :\n",
        "  a -= 5000\n",
        "print(a)"
      ],
      "execution_count": 4,
      "outputs": [
        {
          "output_type": "stream",
          "text": [
            "27000\n",
            "Cash3000\n",
            "24000\n"
          ],
          "name": "stdout"
        }
      ]
    },
    {
      "cell_type": "code",
      "metadata": {
        "colab": {
          "base_uri": "https://localhost:8080/"
        },
        "id": "J_T_3uLY71s7",
        "outputId": "7f7c8321-9292-4bcf-a655-993626b9ab18"
      },
      "source": [
        "a = int(input())\n",
        "b = input()\n",
        "if b == 'Cash3000' :\n",
        "  a -= 3000\n",
        "if b == 'Cash5000' :\n",
        "  a -= 5000\n",
        "print(a)"
      ],
      "execution_count": 5,
      "outputs": [
        {
          "output_type": "stream",
          "text": [
            "72000\n",
            "Cash5000\n",
            "67000\n"
          ],
          "name": "stdout"
        }
      ]
    },
    {
      "cell_type": "markdown",
      "metadata": {
        "id": "Hyq1j-O77IBh"
      },
      "source": [
        "# Unit 14 심사문제\n",
        "\n",
        "표준 입력으로 국어, 영어, 수학, 과학 점수가 입력됩니다.<br> 여기서 네 과목의 평균 점수가 80점 이상일 때 합격이라고 정했습니다.<br> 평균 점수에 따라 '합격', '불합격'을 출력하는 프로그램을 만드세요(input에서 안내 문자열은 출력하지 않아야 합니다).<br> 단, 점수는 0점부터 100점까지만 입력받을 수 있으며 범위를 벗어났다면 '잘못된 점수'를 출력하고 합격, 불합격 여부는 출력하지 않아야 합니다.<br>"
      ]
    },
    {
      "cell_type": "code",
      "metadata": {
        "colab": {
          "base_uri": "https://localhost:8080/"
        },
        "id": "sLBbu9WD_VCR",
        "outputId": "903c18b9-758a-42c6-a6ff-bbc70b917498"
      },
      "source": [
        "국, 영, 수, 과 = map(int, input().split())\n",
        "if 0<= 국 <=100 and 0<= 영 <=100 and 0<= 수 <=100 and 0<= 과 <=100 :\n",
        "  if (sum([국,영,수,과]) / 4) >= 80 :\n",
        "    print('합격') \n",
        "  else :\n",
        "    print('불합격')\n",
        "else :\n",
        "  print('잘못된 점수')"
      ],
      "execution_count": 1,
      "outputs": [
        {
          "output_type": "stream",
          "text": [
            "89 72 93 82\n",
            "합격\n"
          ],
          "name": "stdout"
        }
      ]
    },
    {
      "cell_type": "code",
      "metadata": {
        "colab": {
          "base_uri": "https://localhost:8080/"
        },
        "id": "VXyersph7VSJ",
        "outputId": "534fa816-df03-4e82-eba5-1a9b5d34b475"
      },
      "source": [
        "국, 영, 수, 과 = map(int, input().split())\n",
        "if 0<= 국 <=100 and 0<= 영 <=100 and 0<= 수 <=100 and 0<= 과 <=100 :\n",
        "  if (sum([국,영,수,과]) / 4) >= 80 :\n",
        "    print('합격') \n",
        "  else :\n",
        "    print('불합격')\n",
        "else :\n",
        "  print('잘못된 점수')"
      ],
      "execution_count": 2,
      "outputs": [
        {
          "output_type": "stream",
          "text": [
            "100 79 68 71\n",
            "불합격\n"
          ],
          "name": "stdout"
        }
      ]
    },
    {
      "cell_type": "code",
      "metadata": {
        "colab": {
          "base_uri": "https://localhost:8080/"
        },
        "id": "bYgbkbbe7Ysg",
        "outputId": "49ccfac9-fd18-40af-e6c4-2499091c0852"
      },
      "source": [
        "국, 영, 수, 과 = map(int, input().split())\n",
        "if 0<= 국 <=100 and 0<= 영 <=100 and 0<= 수 <=100 and 0<= 과 <=100 :\n",
        "  if (sum([국,영,수,과]) / 4) >= 80 :\n",
        "    print('합격') \n",
        "  else :\n",
        "    print('불합격')\n",
        "else :\n",
        "  print('잘못된 점수')"
      ],
      "execution_count": 3,
      "outputs": [
        {
          "output_type": "stream",
          "text": [
            "99 85 101 90\n",
            "잘못된 점수\n"
          ],
          "name": "stdout"
        }
      ]
    },
    {
      "cell_type": "code",
      "metadata": {
        "id": "_hAxplIP7b8u"
      },
      "source": [
        ""
      ],
      "execution_count": null,
      "outputs": []
    }
  ]
}
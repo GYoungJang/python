{
  "nbformat": 4,
  "nbformat_minor": 0,
  "metadata": {
    "colab": {
      "name": "u09_문자열.ipynb",
      "provenance": [],
      "collapsed_sections": []
    },
    "kernelspec": {
      "name": "python3",
      "display_name": "Python 3"
    },
    "language_info": {
      "name": "python"
    }
  },
  "cells": [
    {
      "cell_type": "markdown",
      "metadata": {
        "id": "sCvUG6StcLgF"
      },
      "source": [
        "# Unit 9. 문자열"
      ]
    },
    {
      "cell_type": "code",
      "metadata": {
        "colab": {
          "base_uri": "https://localhost:8080/"
        },
        "id": "OKK-r-32cP4Q",
        "outputId": "c9d8f381-e30a-4235-b378-23fc5562f11f"
      },
      "source": [
        "hello = 'hello, world!'\n",
        "hello2 = \"hello, world!\"\n",
        "hello, hello2"
      ],
      "execution_count": 3,
      "outputs": [
        {
          "output_type": "execute_result",
          "data": {
            "text/plain": [
              "('hello, world!', 'hello, world!')"
            ]
          },
          "metadata": {
            "tags": []
          },
          "execution_count": 3
        }
      ]
    },
    {
      "cell_type": "code",
      "metadata": {
        "colab": {
          "base_uri": "https://localhost:8080/",
          "height": 35
        },
        "id": "qHv-sJodc_xo",
        "outputId": "b1df2893-dd78-4114-f435-f2e6724f8c0e"
      },
      "source": [
        "multiline = '''Hello!        \n",
        "World!'''       \n",
        "multiline            #string으로 인식??"
      ],
      "execution_count": 5,
      "outputs": [
        {
          "output_type": "execute_result",
          "data": {
            "application/vnd.google.colaboratory.intrinsic+json": {
              "type": "string"
            },
            "text/plain": [
              "'Hello!\\nWorld!'"
            ]
          },
          "metadata": {
            "tags": []
          },
          "execution_count": 5
        }
      ]
    },
    {
      "cell_type": "code",
      "metadata": {
        "colab": {
          "base_uri": "https://localhost:8080/",
          "height": 35
        },
        "id": "85CwsHELdRCV",
        "outputId": "c02d184d-cd63-444b-ec89-2ee60c240990"
      },
      "source": [
        "multi = 'Hello!\\nWolrd!'\n",
        "multi                         #있는 그대로"
      ],
      "execution_count": 6,
      "outputs": [
        {
          "output_type": "execute_result",
          "data": {
            "application/vnd.google.colaboratory.intrinsic+json": {
              "type": "string"
            },
            "text/plain": [
              "'Hello!\\nWolrd!'"
            ]
          },
          "metadata": {
            "tags": []
          },
          "execution_count": 6
        }
      ]
    },
    {
      "cell_type": "code",
      "metadata": {
        "colab": {
          "base_uri": "https://localhost:8080/"
        },
        "id": "nmCzX5RDd1DY",
        "outputId": "f4ba56ec-6a21-43b4-8686-a4c528301e38"
      },
      "source": [
        "print(multi)       #정제된 형태"
      ],
      "execution_count": 7,
      "outputs": [
        {
          "output_type": "stream",
          "text": [
            "Hello!\n",
            "Wolrd!\n"
          ],
          "name": "stdout"
        }
      ]
    },
    {
      "cell_type": "code",
      "metadata": {
        "colab": {
          "base_uri": "https://localhost:8080/",
          "height": 35
        },
        "id": "kNJxtjXEd3T5",
        "outputId": "32e05aa0-1701-4987-f410-b9580c2594ff"
      },
      "source": [
        "s = \"Python isn't difficult.\"\n",
        "s"
      ],
      "execution_count": 13,
      "outputs": [
        {
          "output_type": "execute_result",
          "data": {
            "application/vnd.google.colaboratory.intrinsic+json": {
              "type": "string"
            },
            "text/plain": [
              "\"Python isn't difficult.\""
            ]
          },
          "metadata": {
            "tags": []
          },
          "execution_count": 13
        }
      ]
    },
    {
      "cell_type": "code",
      "metadata": {
        "colab": {
          "base_uri": "https://localhost:8080/",
          "height": 35
        },
        "id": "7g0Pz0k-ecfW",
        "outputId": "34305d28-a8a8-4757-968b-0ab03e74d9a4"
      },
      "source": [
        "s = 'Alice said \"I love you.\"'\n",
        "s"
      ],
      "execution_count": 14,
      "outputs": [
        {
          "output_type": "execute_result",
          "data": {
            "application/vnd.google.colaboratory.intrinsic+json": {
              "type": "string"
            },
            "text/plain": [
              "'Alice said \"I love you.\"'"
            ]
          },
          "metadata": {
            "tags": []
          },
          "execution_count": 14
        }
      ]
    },
    {
      "cell_type": "code",
      "metadata": {
        "colab": {
          "base_uri": "https://localhost:8080/",
          "height": 35
        },
        "id": "FCCi8r07eq6c",
        "outputId": "5e9640d5-0fc5-498d-c21d-5e3b21680449"
      },
      "source": [
        "s = 'Python isn\\'t difficult.'\n",
        "s              # 백슬래쉬는 그 후에 나오는 것이 의미 없다면 의미 있게, 의미 있다면 의미 없게"
      ],
      "execution_count": 16,
      "outputs": [
        {
          "output_type": "execute_result",
          "data": {
            "application/vnd.google.colaboratory.intrinsic+json": {
              "type": "string"
            },
            "text/plain": [
              "\"Python isn't difficult.\""
            ]
          },
          "metadata": {
            "tags": []
          },
          "execution_count": 16
        }
      ]
    },
    {
      "cell_type": "code",
      "metadata": {
        "id": "36cMgjUme7mZ"
      },
      "source": [
        ""
      ],
      "execution_count": null,
      "outputs": []
    }
  ]
}